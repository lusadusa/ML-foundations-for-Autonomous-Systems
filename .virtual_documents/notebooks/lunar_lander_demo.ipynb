


import os, sys, gymnasium
print("Py exe:", sys.executable)
print("Gymnasium:", gymnasium.__version__)
os.add_dll_directory(os.path.join(sys.exec_prefix, "Library", "bin"))



from pathlib import Path
import sys

# Try to add the repo root (parent of 'src') to sys.path
cwd = Path.cwd()
root = cwd
# If notebook lives in repo/notebooks/, go one level up
if (cwd / "src").exists() is False and (cwd.name == "notebooks"):
    root = cwd.parent

if not (root / "src").exists():
    # walk up until we find 'src' or give up
    for p in cwd.parents:
        if (p / "src").exists():
            root = p
            break

sys.path.insert(0, str(root))
print(f"Repo root resolved to: {root}")
print("sys.path[0] ->", sys.path[0])

# Optional: verify the expected package exists
expected = root / "src" / "reinforcement_learning" / "lunar_lander"
print("lunar_lander path exists:", expected.exists())




# Import the training and evaluation entry points
try:
    from src.reinforcement_learning.lunar_lander.train import train
    from src.reinforcement_learning.lunar_lander.eval import play
    print("Imported train/play from src.reinforcement_learning.lunar_lander")
except Exception as e:
    print("Failed to import train/play. Please check that your files exist:")
    print("src/reinforcement_learning/lunar_lander/train.py and eval.py")
    raise



returns = train(episodes=50, env_id="CartPole-v1")






# WARNING: training for many episodes can take time.
# Start small (e.g., 200–300 episodes) just to produce a visible reward curve.
returns = train(episodes=200, env_id="LunarLander-v3", render_mode=None, save_ckpt=False)
len(returns), returns[-5:]



from pathlib import Path
from src.reinforcement_learning.lunar_lander.eval import rollout_frames
gif = rollout_frames(episodes=1)  # usa policy random se non hai ancora caricato un checkpoint
gif






import matplotlib.pyplot as plt
import numpy as np
from pathlib import Path

plt.figure()
plt.plot(np.arange(len(returns)), returns, linewidth=1.0)
plt.xlabel("Episode"); plt.ylabel("Return")
plt.title("LunarLander — REINFORCE (training run)")
plt.tight_layout()
plt.show()







img = Path(root) / "docs" / "images" / "lunarlander_rewards.png"
if img.exists():
    from IPython.display import Image, display
    display(Image(filename=str(img)))
else:
    print("No saved plot found at", img)







# Run evaluation for a few episodes. If your eval() uses a GUI window,
# consider changing it to 'rgb_array' for notebook previews.
try:
    play(episodes=3)
    print("Evaluation run completed.")
except Exception as e:
    print("Evaluation failed (likely due to render mode). Error:")
    print(e)

